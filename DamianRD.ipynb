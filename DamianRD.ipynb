{
  "nbformat": 4,
  "nbformat_minor": 0,
  "metadata": {
    "colab": {
      "provenance": [],
      "authorship_tag": "ABX9TyMrhCmHyLSFTr7k0II9XyNJ",
      "include_colab_link": true
    },
    "kernelspec": {
      "name": "python3",
      "display_name": "Python 3"
    },
    "language_info": {
      "name": "python"
    }
  },
  "cells": [
    {
      "cell_type": "markdown",
      "metadata": {
        "id": "view-in-github",
        "colab_type": "text"
      },
      "source": [
        "<a href=\"https://colab.research.google.com/github/alu231044-sq/repaso-pyton/blob/main/DamianRD.ipynb\" target=\"_parent\"><img src=\"https://colab.research.google.com/assets/colab-badge.svg\" alt=\"Open In Colab\"/></a>"
      ]
    },
    {
      "cell_type": "markdown",
      "source": [
        "programa1 en python para imprimir mi nombre con hola mundo"
      ],
      "metadata": {
        "id": "bKOagP750QcI"
      }
    },
    {
      "cell_type": "code",
      "source": [
        "print (\"hola mundo\")\n",
        "nombre=(input(\"captura tu nombre \"))\n",
        "print (nombre)"
      ],
      "metadata": {
        "colab": {
          "base_uri": "https://localhost:8080/"
        },
        "id": "3ahcPQsa0mf-",
        "outputId": "d9732b65-40a3-4b6d-c0e2-d6b680374bd2"
      },
      "execution_count": 1,
      "outputs": [
        {
          "output_type": "stream",
          "name": "stdout",
          "text": [
            "hola mundo\n",
            "captura tu nombrecarlos\n",
            "carlos\n"
          ]
        }
      ]
    },
    {
      "cell_type": "markdown",
      "source": [
        "programa 2 capturar nombre, paterno y materno e imprimirlo en pantalla\n"
      ],
      "metadata": {
        "id": "nGe2DiuE1bai"
      }
    },
    {
      "cell_type": "code",
      "source": [
        "\n",
        "nombre=(input(\"escribe tu nombre\"))\n",
        "apellidop=(input(\"escribe tu apellido paterno: \"))\n",
        "apellidom=(input(\"escribe tu apellido materno: \"))\n",
        "print(\"nombre: \"+nombre+apellidop+apellidom)"
      ],
      "metadata": {
        "colab": {
          "base_uri": "https://localhost:8080/"
        },
        "id": "fFKSkBi81my6",
        "outputId": "ab2fcffd-f992-4abf-9c7e-48bdad07078c"
      },
      "execution_count": 4,
      "outputs": [
        {
          "output_type": "stream",
          "name": "stdout",
          "text": [
            "escribe tu nombrecarlos damian\n",
            "escribe tu apellido paterno: reyes\n",
            "escribe tu apellido materno: duarte\n",
            "nombre: carlos damianreyesduarte\n"
          ]
        }
      ]
    }
  ]
}