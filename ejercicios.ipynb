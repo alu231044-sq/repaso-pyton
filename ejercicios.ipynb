{
  "nbformat": 4,
  "nbformat_minor": 0,
  "metadata": {
    "colab": {
      "provenance": [],
      "authorship_tag": "ABX9TyP0sTgDbwUrb2Rn/yDR7TZN",
      "include_colab_link": true
    },
    "kernelspec": {
      "name": "python3",
      "display_name": "Python 3"
    },
    "language_info": {
      "name": "python"
    }
  },
  "cells": [
    {
      "cell_type": "markdown",
      "metadata": {
        "id": "view-in-github",
        "colab_type": "text"
      },
      "source": [
        "<a href=\"https://colab.research.google.com/github/alu231044-sq/repaso-pyton/blob/main/ejercicios.ipynb\" target=\"_parent\"><img src=\"https://colab.research.google.com/assets/colab-badge.svg\" alt=\"Open In Colab\"/></a>"
      ]
    },
    {
      "cell_type": "markdown",
      "source": [
        "ejercicios a desarollar en colab con github"
      ],
      "metadata": {
        "id": "mNH99QVJ5QEO"
      }
    },
    {
      "cell_type": "markdown",
      "source": [],
      "metadata": {
        "id": "P4cNyXOh5YW8"
      }
    },
    {
      "cell_type": "markdown",
      "source": [
        "1_ realizar un programa en python que te permita capturar 2 numeros enteros e imprima la suma, multiplicacion y division de ambos\n",
        "\n",
        "2_realiza un programa en python mediante el cual calcules en total de caracteres que tiene un nombre capturado desde el teclado\n",
        "\n",
        "3_ realiza un programa que permita imprimir los 7 dias de la semana\n"
      ],
      "metadata": {
        "id": "vW5eEjOa7swL"
      }
    },
    {
      "cell_type": "code",
      "source": [
        "print(\"Ej 1\")\n",
        "n1=(input(\"escriba el primer numero : \"))\n",
        "n2=(input(\"escriba el segundo numero : \"))\n",
        "suma=int(n1)+int(n2)\n",
        "resta=int(n1)-int(n2)\n",
        "multiplicacion=int(n1)*int(n2)\n",
        "division=int(n1)/int(n2)\n",
        "print(\"la suma es : \",suma)\n",
        "print(\"la resta es : \",resta)\n",
        "print(\"la multiplicacion es : \",multiplicacion)\n",
        "print(\"la division es : \",division)\n"
      ],
      "metadata": {
        "colab": {
          "base_uri": "https://localhost:8080/"
        },
        "collapsed": true,
        "id": "cw11yZDc7Aav",
        "outputId": "8487dc83-5b0d-4504-f45d-5d895d153761"
      },
      "execution_count": 15,
      "outputs": [
        {
          "output_type": "stream",
          "name": "stdout",
          "text": [
            "Ej 1\n",
            "escriba el primer numero : 2\n",
            "escriba el segundo numero : 2\n",
            "la suma es :  4\n",
            "la resta es :  0\n",
            "la multiplicacion es :  4\n",
            "la division es :  1.0\n"
          ]
        }
      ]
    },
    {
      "cell_type": "code",
      "source": [
        "print(\"EJ 2\")\n",
        "n=(input(\"escribe tu nombre: \" ))\n",
        "caracter=len(n)\n",
        "print(\"tu nombre tiene: \",caracter,\" caracteres\")\n"
      ],
      "metadata": {
        "colab": {
          "base_uri": "https://localhost:8080/"
        },
        "id": "WghfILqbASBl",
        "outputId": "a76d8cf4-7c31-4067-9cde-01aaa947904e"
      },
      "execution_count": 23,
      "outputs": [
        {
          "output_type": "stream",
          "name": "stdout",
          "text": [
            "EJ 2\n",
            "escribe tu nombre: damian\n",
            "tu nombre tiene:  6  caracteres\n"
          ]
        }
      ]
    },
    {
      "cell_type": "code",
      "source": [
        "print(\"EJ 3\")\n",
        "semana=(\"lunes\",\"martes\",\"miercoles\",\"jueves\",\"viernes\",\"sabado\",\"domingo\")\n",
        "print(semana)"
      ],
      "metadata": {
        "colab": {
          "base_uri": "https://localhost:8080/"
        },
        "id": "gqjVZneeBsEo",
        "outputId": "86e84797-ad98-4db2-b2ba-9d8072f318d7"
      },
      "execution_count": 24,
      "outputs": [
        {
          "output_type": "stream",
          "name": "stdout",
          "text": [
            "EJ 3\n",
            "('lunes', 'martes', 'miercoles', 'jueves', 'viernes', 'sabado', 'domingo')\n"
          ]
        }
      ]
    }
  ]
}