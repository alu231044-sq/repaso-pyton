{
  "nbformat": 4,
  "nbformat_minor": 0,
  "metadata": {
    "colab": {
      "provenance": [],
      "authorship_tag": "ABX9TyPWpdMuGxAgsAjVeE6kElEj",
      "include_colab_link": true
    },
    "kernelspec": {
      "name": "python3",
      "display_name": "Python 3"
    },
    "language_info": {
      "name": "python"
    }
  },
  "cells": [
    {
      "cell_type": "markdown",
      "metadata": {
        "id": "view-in-github",
        "colab_type": "text"
      },
      "source": [
        "<a href=\"https://colab.research.google.com/github/alu231044-sq/repaso-pyton/blob/main/evaluaciondiagnostica.ipynb\" target=\"_parent\"><img src=\"https://colab.research.google.com/assets/colab-badge.svg\" alt=\"Open In Colab\"/></a>"
      ]
    },
    {
      "cell_type": "markdown",
      "source": [
        "N1"
      ],
      "metadata": {
        "id": "G27sEfu92tDj"
      }
    },
    {
      "cell_type": "code",
      "execution_count": 2,
      "metadata": {
        "colab": {
          "base_uri": "https://localhost:8080/"
        },
        "id": "54pKN5Suz5Gh",
        "outputId": "f2b7ba28-e5b6-428e-c83b-d41a5bc033de"
      },
      "outputs": [
        {
          "output_type": "stream",
          "name": "stdout",
          "text": [
            "escribe tu nombrecarlos damian\n",
            "apellido paternoreyes\n",
            "apellido maternoduarte\n",
            "tu nombre es carlos damian reyes duarte\n"
          ]
        }
      ],
      "source": [
        "\n",
        "nombre=(input(\"escribe tu nombre\"))\n",
        "ap=(input(\"apellido paterno\"))\n",
        "am=(input(\"apellido materno\"))\n",
        "print(\"tu nombre es\",nombre,ap,am)\n"
      ]
    },
    {
      "cell_type": "markdown",
      "source": [
        "N2:"
      ],
      "metadata": {
        "id": "vF_KKE9T21in"
      }
    },
    {
      "cell_type": "code",
      "source": [
        "num=float(input(\"escribe el primer numero\"))\n",
        "num2=float(input(\"escribe el segundo numero numero\"))\n",
        "suma=num+num2\n",
        "print(\"la suma es: \",suma)"
      ],
      "metadata": {
        "colab": {
          "base_uri": "https://localhost:8080/"
        },
        "id": "uUmSNJEy223X",
        "outputId": "2cab2008-0e16-44df-cfd7-f238986e926a"
      },
      "execution_count": 4,
      "outputs": [
        {
          "output_type": "stream",
          "name": "stdout",
          "text": [
            "escribe el primer numero2.5\n",
            "escribe el segundo numero numero2.5\n",
            "la suma es:  5.0\n"
          ]
        }
      ]
    },
    {
      "cell_type": "markdown",
      "source": [
        "N3:"
      ],
      "metadata": {
        "id": "ieoLSRjr2_8m"
      }
    },
    {
      "cell_type": "code",
      "source": [
        "r=float(input(\"escribe el radio de el circulo: \"))\n",
        "r2=r*r\n",
        "p=3.1416\n",
        "area=p*r2\n",
        "print(\"el area del circulo es: \",area)"
      ],
      "metadata": {
        "colab": {
          "base_uri": "https://localhost:8080/"
        },
        "id": "cViiLV-o3Bqm",
        "outputId": "df60ee55-6664-4435-fd9e-50f35ec3766c"
      },
      "execution_count": 6,
      "outputs": [
        {
          "output_type": "stream",
          "name": "stdout",
          "text": [
            "escribe el radio de el circulo: 3\n",
            "el area del circulo es:  28.2744\n"
          ]
        }
      ]
    },
    {
      "cell_type": "markdown",
      "source": [
        "N4:\n",
        "db.carros.insertOne ({nocarro:50,marca:\"toyota\"})"
      ],
      "metadata": {
        "id": "sOmOCFJh4CIo"
      }
    }
  ]
}